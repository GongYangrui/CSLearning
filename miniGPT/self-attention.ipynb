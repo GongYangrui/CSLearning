{
 "cells": [
  {
   "cell_type": "code",
   "execution_count": null,
   "metadata": {},
   "outputs": [
    {
     "data": {
      "text/plain": [
       "torch.Size([4, 8, 32])"
      ]
     },
     "execution_count": 2,
     "metadata": {},
     "output_type": "execute_result"
    }
   ],
   "source": [
    "import torch\n",
    "from torch.nn import functional as F\n",
    "import torch.nn as nn\n",
    "B, T, C = 4, 8, 32\n",
    "x = torch.randn(B, T, C)\n",
    "\n",
    "head_size = 16\n",
    "key = nn.Linear(C, head_size, bias=False)\n",
    "query = nn.Linear(C, head_size, bias=False) # 这里可以理解成矩阵乘法，可以理解为Wq @ x得到query\n",
    "value = nn.Linear(C, head_size, bias=False)\n",
    "k = key(x) # (B, T, head_size)\n",
    "q = query(x) # (B, T, head_size)\n",
    "v = value(x) # (B, T, head_size)\n",
    "wei = q @ k.transpose(-2, -1) # (B, T, T)\n",
    "\n",
    "tril = torch.tril(torch.ones(T, T))\n",
    "# wei = torch.zeros((T, T))\n",
    "wei = wei.masked_fill(tril == 0, float(\"-inf\")) # 有点类似于mask的操作，当前输入只能看到当前和以前的输入\n",
    "wei = F.softmax(wei, dim=-1) # (B, T, T)\n",
    "out = wei @ v # (B, T, head_size)\n",
    "\n",
    "\n",
    "# out = wei @ x # (B, T, T) @ (B, T, C)  --> (B, T, C)\n",
    "out.shape"
   ]
  },
  {
   "cell_type": "code",
   "execution_count": 3,
   "metadata": {},
   "outputs": [
    {
     "data": {
      "text/plain": [
       "tensor([[1.0000, 0.0000, 0.0000, 0.0000, 0.0000, 0.0000, 0.0000, 0.0000],\n",
       "        [0.3621, 0.6379, 0.0000, 0.0000, 0.0000, 0.0000, 0.0000, 0.0000],\n",
       "        [0.4609, 0.4936, 0.0455, 0.0000, 0.0000, 0.0000, 0.0000, 0.0000],\n",
       "        [0.5894, 0.0468, 0.0279, 0.3359, 0.0000, 0.0000, 0.0000, 0.0000],\n",
       "        [0.0113, 0.1358, 0.5566, 0.1602, 0.1362, 0.0000, 0.0000, 0.0000],\n",
       "        [0.3382, 0.2637, 0.0737, 0.0234, 0.2319, 0.0690, 0.0000, 0.0000],\n",
       "        [0.2697, 0.2301, 0.0381, 0.0323, 0.3946, 0.0092, 0.0259, 0.0000],\n",
       "        [0.0540, 0.0196, 0.0340, 0.1138, 0.0065, 0.6821, 0.0875, 0.0026]],\n",
       "       grad_fn=<SelectBackward0>)"
      ]
     },
     "execution_count": 3,
     "metadata": {},
     "output_type": "execute_result"
    }
   ],
   "source": [
    "wei[0]"
   ]
  },
  {
   "cell_type": "code",
   "execution_count": null,
   "metadata": {},
   "outputs": [],
   "source": []
  }
 ],
 "metadata": {
  "kernelspec": {
   "display_name": "base",
   "language": "python",
   "name": "python3"
  },
  "language_info": {
   "codemirror_mode": {
    "name": "ipython",
    "version": 3
   },
   "file_extension": ".py",
   "mimetype": "text/x-python",
   "name": "python",
   "nbconvert_exporter": "python",
   "pygments_lexer": "ipython3",
   "version": "3.10.12"
  }
 },
 "nbformat": 4,
 "nbformat_minor": 2
}
